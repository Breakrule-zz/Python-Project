{
  "nbformat": 4,
  "nbformat_minor": 0,
  "metadata": {
    "colab": {
      "name": "KNN Rezky Om.ipynb",
      "provenance": [],
      "collapsed_sections": [],
      "include_colab_link": true
    },
    "kernelspec": {
      "display_name": "Python 3",
      "language": "python",
      "name": "python3"
    },
    "language_info": {
      "codemirror_mode": {
        "name": "ipython",
        "version": 3
      },
      "file_extension": ".py",
      "mimetype": "text/x-python",
      "name": "python",
      "nbconvert_exporter": "python",
      "pygments_lexer": "ipython3",
      "version": "3.7.4"
    }
  },
  "cells": [
    {
      "cell_type": "markdown",
      "metadata": {
        "id": "view-in-github",
        "colab_type": "text"
      },
      "source": [
        "<a href=\"https://colab.research.google.com/github/Breakrule/Breakrule/blob/main/KNN_Rezky_Om.ipynb\" target=\"_parent\"><img src=\"https://colab.research.google.com/assets/colab-badge.svg\" alt=\"Open In Colab\"/></a>"
      ]
    },
    {
      "cell_type": "code",
      "metadata": {
        "id": "2jlFPGIesCZZ"
      },
      "source": [
        "import numpy as np\n",
        "import pandas as pd\n",
        "%matplotlib inline\n",
        "import matplotlib.pyplot as plt\n",
        "plt.style.use ('ggplot')"
      ],
      "execution_count": null,
      "outputs": []
    },
    {
      "cell_type": "code",
      "metadata": {
        "id": "tE7PgIjQte_p",
        "colab": {
          "base_uri": "https://localhost:8080/",
          "height": 128
        },
        "outputId": "469a429b-10d0-48f2-da0e-5222b8f3be9b"
      },
      "source": [
        "from google.colab import drive\n",
        "drive.mount('/content/gdrive')\n",
        "\n",
        "df = pd.read_excel(\"/content/gdrive/My Drive/Colab Notebooks/abalone2.xlsx\", encoding=\"utf-8\")"
      ],
      "execution_count": null,
      "outputs": [
        {
          "output_type": "stream",
          "text": [
            "Go to this URL in a browser: https://accounts.google.com/o/oauth2/auth?client_id=947318989803-6bn6qk8qdgf4n4g3pfee6491hc0brc4i.apps.googleusercontent.com&redirect_uri=urn%3aietf%3awg%3aoauth%3a2.0%3aoob&response_type=code&scope=email%20https%3a%2f%2fwww.googleapis.com%2fauth%2fdocs.test%20https%3a%2f%2fwww.googleapis.com%2fauth%2fdrive%20https%3a%2f%2fwww.googleapis.com%2fauth%2fdrive.photos.readonly%20https%3a%2f%2fwww.googleapis.com%2fauth%2fpeopleapi.readonly\n",
            "\n",
            "Enter your authorization code:\n",
            "··········\n",
            "Mounted at /content/gdrive\n"
          ],
          "name": "stdout"
        }
      ]
    },
    {
      "cell_type": "code",
      "metadata": {
        "id": "uxtk23ppus6C",
        "colab": {
          "base_uri": "https://localhost:8080/",
          "height": 206
        },
        "outputId": "68ba86ad-050e-4437-fa6c-b5a2b66da4f6"
      },
      "source": [
        "df.head()"
      ],
      "execution_count": null,
      "outputs": [
        {
          "output_type": "execute_result",
          "data": {
            "text/html": [
              "<div>\n",
              "<style scoped>\n",
              "    .dataframe tbody tr th:only-of-type {\n",
              "        vertical-align: middle;\n",
              "    }\n",
              "\n",
              "    .dataframe tbody tr th {\n",
              "        vertical-align: top;\n",
              "    }\n",
              "\n",
              "    .dataframe thead th {\n",
              "        text-align: right;\n",
              "    }\n",
              "</style>\n",
              "<table border=\"1\" class=\"dataframe\">\n",
              "  <thead>\n",
              "    <tr style=\"text-align: right;\">\n",
              "      <th></th>\n",
              "      <th>sex</th>\n",
              "      <th>length</th>\n",
              "      <th>diameter</th>\n",
              "      <th>height</th>\n",
              "      <th>whole hei</th>\n",
              "      <th>shucked he</th>\n",
              "      <th>viscera hei</th>\n",
              "      <th>shell weigh</th>\n",
              "      <th>rings</th>\n",
              "    </tr>\n",
              "  </thead>\n",
              "  <tbody>\n",
              "    <tr>\n",
              "      <th>0</th>\n",
              "      <td>1</td>\n",
              "      <td>0.455</td>\n",
              "      <td>0.365</td>\n",
              "      <td>0.095</td>\n",
              "      <td>0.5140</td>\n",
              "      <td>0.2245</td>\n",
              "      <td>0.1010</td>\n",
              "      <td>0.150</td>\n",
              "      <td>15</td>\n",
              "    </tr>\n",
              "    <tr>\n",
              "      <th>1</th>\n",
              "      <td>1</td>\n",
              "      <td>0.350</td>\n",
              "      <td>0.265</td>\n",
              "      <td>0.090</td>\n",
              "      <td>0.2255</td>\n",
              "      <td>0.0995</td>\n",
              "      <td>0.0485</td>\n",
              "      <td>0.070</td>\n",
              "      <td>7</td>\n",
              "    </tr>\n",
              "    <tr>\n",
              "      <th>2</th>\n",
              "      <td>2</td>\n",
              "      <td>0.530</td>\n",
              "      <td>0.420</td>\n",
              "      <td>0.135</td>\n",
              "      <td>0.6770</td>\n",
              "      <td>0.2565</td>\n",
              "      <td>0.1415</td>\n",
              "      <td>0.210</td>\n",
              "      <td>9</td>\n",
              "    </tr>\n",
              "    <tr>\n",
              "      <th>3</th>\n",
              "      <td>1</td>\n",
              "      <td>0.440</td>\n",
              "      <td>0.365</td>\n",
              "      <td>0.125</td>\n",
              "      <td>0.5160</td>\n",
              "      <td>0.2155</td>\n",
              "      <td>0.1140</td>\n",
              "      <td>0.155</td>\n",
              "      <td>10</td>\n",
              "    </tr>\n",
              "    <tr>\n",
              "      <th>4</th>\n",
              "      <td>3</td>\n",
              "      <td>0.330</td>\n",
              "      <td>0.255</td>\n",
              "      <td>0.080</td>\n",
              "      <td>0.2050</td>\n",
              "      <td>0.0895</td>\n",
              "      <td>0.0395</td>\n",
              "      <td>0.055</td>\n",
              "      <td>7</td>\n",
              "    </tr>\n",
              "  </tbody>\n",
              "</table>\n",
              "</div>"
            ],
            "text/plain": [
              "   sex  length  diameter  height  ...  shucked he  viscera hei  shell weigh  rings\n",
              "0    1   0.455     0.365   0.095  ...      0.2245       0.1010        0.150     15\n",
              "1    1   0.350     0.265   0.090  ...      0.0995       0.0485        0.070      7\n",
              "2    2   0.530     0.420   0.135  ...      0.2565       0.1415        0.210      9\n",
              "3    1   0.440     0.365   0.125  ...      0.2155       0.1140        0.155     10\n",
              "4    3   0.330     0.255   0.080  ...      0.0895       0.0395        0.055      7\n",
              "\n",
              "[5 rows x 9 columns]"
            ]
          },
          "metadata": {
            "tags": []
          },
          "execution_count": 4
        }
      ]
    },
    {
      "cell_type": "markdown",
      "metadata": {
        "id": "BTWlGZZ9viFz"
      },
      "source": [
        "**Drop dulu Kolom Quality**\n"
      ]
    },
    {
      "cell_type": "code",
      "metadata": {
        "id": "JCmg3-n7vH8N",
        "colab": {
          "base_uri": "https://localhost:8080/",
          "height": 206
        },
        "outputId": "5da11dba-4f37-423d-c7a2-2b4b1c9ee5de"
      },
      "source": [
        "X = df.drop('rings',1)\n",
        "X.head()\n",
        "\n"
      ],
      "execution_count": null,
      "outputs": [
        {
          "output_type": "execute_result",
          "data": {
            "text/html": [
              "<div>\n",
              "<style scoped>\n",
              "    .dataframe tbody tr th:only-of-type {\n",
              "        vertical-align: middle;\n",
              "    }\n",
              "\n",
              "    .dataframe tbody tr th {\n",
              "        vertical-align: top;\n",
              "    }\n",
              "\n",
              "    .dataframe thead th {\n",
              "        text-align: right;\n",
              "    }\n",
              "</style>\n",
              "<table border=\"1\" class=\"dataframe\">\n",
              "  <thead>\n",
              "    <tr style=\"text-align: right;\">\n",
              "      <th></th>\n",
              "      <th>sex</th>\n",
              "      <th>length</th>\n",
              "      <th>diameter</th>\n",
              "      <th>height</th>\n",
              "      <th>whole hei</th>\n",
              "      <th>shucked he</th>\n",
              "      <th>viscera hei</th>\n",
              "      <th>shell weigh</th>\n",
              "    </tr>\n",
              "  </thead>\n",
              "  <tbody>\n",
              "    <tr>\n",
              "      <th>0</th>\n",
              "      <td>1</td>\n",
              "      <td>0.455</td>\n",
              "      <td>0.365</td>\n",
              "      <td>0.095</td>\n",
              "      <td>0.5140</td>\n",
              "      <td>0.2245</td>\n",
              "      <td>0.1010</td>\n",
              "      <td>0.150</td>\n",
              "    </tr>\n",
              "    <tr>\n",
              "      <th>1</th>\n",
              "      <td>1</td>\n",
              "      <td>0.350</td>\n",
              "      <td>0.265</td>\n",
              "      <td>0.090</td>\n",
              "      <td>0.2255</td>\n",
              "      <td>0.0995</td>\n",
              "      <td>0.0485</td>\n",
              "      <td>0.070</td>\n",
              "    </tr>\n",
              "    <tr>\n",
              "      <th>2</th>\n",
              "      <td>2</td>\n",
              "      <td>0.530</td>\n",
              "      <td>0.420</td>\n",
              "      <td>0.135</td>\n",
              "      <td>0.6770</td>\n",
              "      <td>0.2565</td>\n",
              "      <td>0.1415</td>\n",
              "      <td>0.210</td>\n",
              "    </tr>\n",
              "    <tr>\n",
              "      <th>3</th>\n",
              "      <td>1</td>\n",
              "      <td>0.440</td>\n",
              "      <td>0.365</td>\n",
              "      <td>0.125</td>\n",
              "      <td>0.5160</td>\n",
              "      <td>0.2155</td>\n",
              "      <td>0.1140</td>\n",
              "      <td>0.155</td>\n",
              "    </tr>\n",
              "    <tr>\n",
              "      <th>4</th>\n",
              "      <td>3</td>\n",
              "      <td>0.330</td>\n",
              "      <td>0.255</td>\n",
              "      <td>0.080</td>\n",
              "      <td>0.2050</td>\n",
              "      <td>0.0895</td>\n",
              "      <td>0.0395</td>\n",
              "      <td>0.055</td>\n",
              "    </tr>\n",
              "  </tbody>\n",
              "</table>\n",
              "</div>"
            ],
            "text/plain": [
              "   sex  length  diameter  ...  shucked he  viscera hei  shell weigh\n",
              "0    1   0.455     0.365  ...      0.2245       0.1010        0.150\n",
              "1    1   0.350     0.265  ...      0.0995       0.0485        0.070\n",
              "2    2   0.530     0.420  ...      0.2565       0.1415        0.210\n",
              "3    1   0.440     0.365  ...      0.2155       0.1140        0.155\n",
              "4    3   0.330     0.255  ...      0.0895       0.0395        0.055\n",
              "\n",
              "[5 rows x 8 columns]"
            ]
          },
          "metadata": {
            "tags": []
          },
          "execution_count": 5
        }
      ]
    },
    {
      "cell_type": "markdown",
      "metadata": {
        "id": "OhQTHhcewLBs"
      },
      "source": [
        "## Ubah dari data frame kedalam bentuk undimensional array (feature matrix)"
      ]
    },
    {
      "cell_type": "code",
      "metadata": {
        "id": "HP_qqGCCwJ5B",
        "colab": {
          "base_uri": "https://localhost:8080/",
          "height": 144
        },
        "outputId": "f920d19b-5ffa-419e-be81-c2adc8a56eb0"
      },
      "source": [
        "X = X.values # mendapatkan value dari dataframe X\n",
        "X"
      ],
      "execution_count": null,
      "outputs": [
        {
          "output_type": "execute_result",
          "data": {
            "text/plain": [
              "array([[1.    , 0.455 , 0.365 , ..., 0.2245, 0.101 , 0.15  ],\n",
              "       [1.    , 0.35  , 0.265 , ..., 0.0995, 0.0485, 0.07  ],\n",
              "       [2.    , 0.53  , 0.42  , ..., 0.2565, 0.1415, 0.21  ],\n",
              "       ...,\n",
              "       [1.    , 0.6   , 0.475 , ..., 0.5255, 0.2875, 0.308 ],\n",
              "       [2.    , 0.625 , 0.485 , ..., 0.531 , 0.261 , 0.296 ],\n",
              "       [1.    , 0.71  , 0.555 , ..., 0.9455, 0.3765, 0.495 ]])"
            ]
          },
          "metadata": {
            "tags": []
          },
          "execution_count": 6
        }
      ]
    },
    {
      "cell_type": "code",
      "metadata": {
        "id": "iuDZYkzuxk1c"
      },
      "source": [
        "## Ambil nilai  df quality"
      ],
      "execution_count": null,
      "outputs": []
    },
    {
      "cell_type": "code",
      "metadata": {
        "id": "HCoruEmVx6VC",
        "colab": {
          "base_uri": "https://localhost:8080/",
          "height": 35
        },
        "outputId": "fee7ccca-a48d-452d-8e56-fccf3c431ec2"
      },
      "source": [
        "y1 = df['rings'].values\n",
        "y1 #target variable"
      ],
      "execution_count": null,
      "outputs": [
        {
          "output_type": "execute_result",
          "data": {
            "text/plain": [
              "array([15,  7,  9, ...,  9, 10, 12])"
            ]
          },
          "metadata": {
            "tags": []
          },
          "execution_count": 8
        }
      ]
    },
    {
      "cell_type": "code",
      "metadata": {
        "id": "NgBltWWd4YYX",
        "colab": {
          "base_uri": "https://localhost:8080/",
          "height": 35
        },
        "outputId": "8764f9a9-74b3-4e33-adf0-4988a8d3b5c5"
      },
      "source": [
        "X.shape"
      ],
      "execution_count": null,
      "outputs": [
        {
          "output_type": "execute_result",
          "data": {
            "text/plain": [
              "(4177, 8)"
            ]
          },
          "metadata": {
            "tags": []
          },
          "execution_count": 9
        }
      ]
    },
    {
      "cell_type": "code",
      "metadata": {
        "id": "qCsUBlRh48Iz",
        "colab": {
          "base_uri": "https://localhost:8080/",
          "height": 144
        },
        "outputId": "bcf2d1f9-94dc-4bf4-f925-a21b3699e784"
      },
      "source": [
        "\n",
        "from sklearn.model_selection import train_test_split\n",
        "#from sklearn.model_selection import train_test_split\n",
        "# split data menjadi training set dan training test\n",
        "X_train, X_test, y_train, y_test = train_test_split(X,y1, test_size = 0.2, random_state=42)\n",
        "\n",
        "#X_train, X_test, y_train, y_test = train_test_split(X, y, test_size=0.33, random_state=42)\n",
        "X_train"
      ],
      "execution_count": null,
      "outputs": [
        {
          "output_type": "execute_result",
          "data": {
            "text/plain": [
              "array([[3.    , 0.55  , 0.445 , ..., 0.288 , 0.1365, 0.21  ],\n",
              "       [3.    , 0.475 , 0.355 , ..., 0.2535, 0.091 , 0.14  ],\n",
              "       [2.    , 0.305 , 0.225 , ..., 0.0585, 0.0335, 0.045 ],\n",
              "       ...,\n",
              "       [1.    , 0.51  , 0.395 , ..., 0.244 , 0.1335, 0.188 ],\n",
              "       [1.    , 0.575 , 0.465 , ..., 0.516 , 0.2185, 0.235 ],\n",
              "       [2.    , 0.595 , 0.475 , ..., 0.547 , 0.231 , 0.271 ]])"
            ]
          },
          "metadata": {
            "tags": []
          },
          "execution_count": 10
        }
      ]
    },
    {
      "cell_type": "code",
      "metadata": {
        "id": "PQgSS8ZHm6ig",
        "colab": {
          "base_uri": "https://localhost:8080/",
          "height": 35
        },
        "outputId": "413ff9a6-b5d8-44a1-b198-767c5dadb8e7"
      },
      "source": [
        "X_train.shape"
      ],
      "execution_count": null,
      "outputs": [
        {
          "output_type": "execute_result",
          "data": {
            "text/plain": [
              "(3341, 8)"
            ]
          },
          "metadata": {
            "tags": []
          },
          "execution_count": 11
        }
      ]
    },
    {
      "cell_type": "code",
      "metadata": {
        "id": "69n0-otum6il",
        "colab": {
          "base_uri": "https://localhost:8080/",
          "height": 35
        },
        "outputId": "527d08c6-728c-498c-da99-adb067494ead"
      },
      "source": [
        "X_test.shape"
      ],
      "execution_count": null,
      "outputs": [
        {
          "output_type": "execute_result",
          "data": {
            "text/plain": [
              "(836, 8)"
            ]
          },
          "metadata": {
            "tags": []
          },
          "execution_count": 12
        }
      ]
    },
    {
      "cell_type": "markdown",
      "metadata": {
        "id": "ko_P0gy9m6io"
      },
      "source": [
        "## Mulai training dengan nilai K \n",
        "# dengan me import neighbor dari sklrearn"
      ]
    },
    {
      "cell_type": "code",
      "metadata": {
        "id": "QtV_QX-Nya_L"
      },
      "source": [
        "# proses training data\n",
        "from sklearn import neighbors\n",
        "\n",
        "knn = neighbors.KNeighborsClassifier(n_neighbors = 3) # menentukan nilai K\n",
        "knn_model_1 = knn.fit(X_train, y_train)\n",
        "\n",
        "                    "
      ],
      "execution_count": null,
      "outputs": []
    },
    {
      "cell_type": "code",
      "metadata": {
        "id": "BPV5pEgNm6is",
        "colab": {
          "base_uri": "https://localhost:8080/",
          "height": 72
        },
        "outputId": "8823e12f-f58d-4243-d1b7-2441c4d21d68"
      },
      "source": [
        "knn_model_1"
      ],
      "execution_count": null,
      "outputs": [
        {
          "output_type": "execute_result",
          "data": {
            "text/plain": [
              "KNeighborsClassifier(algorithm='auto', leaf_size=30, metric='minkowski',\n",
              "                     metric_params=None, n_jobs=None, n_neighbors=3, p=2,\n",
              "                     weights='uniform')"
            ]
          },
          "metadata": {
            "tags": []
          },
          "execution_count": 14
        }
      ]
    },
    {
      "cell_type": "code",
      "metadata": {
        "id": "SPLhBJtkm6iw",
        "colab": {
          "base_uri": "https://localhost:8080/",
          "height": 35
        },
        "outputId": "9843b299-76ed-4bb8-b661-a7affb680e8f"
      },
      "source": [
        "## Lakukan proses testing/predicting terhadap knn_model_1 dan cek acurasinya\n",
        "knn_result_1 = knn_model_1.score(X_test, y_test)\n",
        "print('K-NN accuracy for test set : %f' % knn_result_1)"
      ],
      "execution_count": null,
      "outputs": [
        {
          "output_type": "stream",
          "text": [
            "K-NN accuracy for test set : 0.230861\n"
          ],
          "name": "stdout"
        }
      ]
    },
    {
      "cell_type": "code",
      "metadata": {
        "id": "eIcT_FbKm6iz",
        "colab": {
          "base_uri": "https://localhost:8080/",
          "height": 655
        },
        "outputId": "d97864b7-5059-4084-f7db-1e85cab35f87"
      },
      "source": [
        "from sklearn.metrics import classification_report\n",
        "y_true, y_pred = y_test, knn_model_1.predict(X_test)\n",
        "print(classification_report(y_true, y_pred))\n",
        "\n",
        "\"precision : tp/(tp+fp)\"\n",
        "\"recall : tp/(tp+fn)\"\n",
        "\"f1-score: (2xprecision x recall)/precision + recall\"\n",
        "\n"
      ],
      "execution_count": null,
      "outputs": [
        {
          "output_type": "stream",
          "text": [
            "              precision    recall  f1-score   support\n",
            "\n",
            "           2       0.00      0.00      0.00         0\n",
            "           3       0.00      0.00      0.00         3\n",
            "           4       0.17      0.31      0.22        13\n",
            "           5       0.22      0.22      0.22        32\n",
            "           6       0.29      0.35      0.32        48\n",
            "           7       0.24      0.25      0.25        84\n",
            "           8       0.23      0.38      0.28        99\n",
            "           9       0.29      0.38      0.33       142\n",
            "          10       0.23      0.19      0.20       139\n",
            "          11       0.22      0.19      0.21        93\n",
            "          12       0.07      0.04      0.05        51\n",
            "          13       0.07      0.06      0.07        31\n",
            "          14       0.20      0.08      0.11        26\n",
            "          15       1.00      0.05      0.09        21\n",
            "          16       0.25      0.08      0.12        13\n",
            "          17       0.00      0.00      0.00         8\n",
            "          18       0.00      0.00      0.00        12\n",
            "          19       0.00      0.00      0.00         7\n",
            "          20       0.00      0.00      0.00         4\n",
            "          21       0.00      0.00      0.00         3\n",
            "          22       0.00      0.00      0.00         3\n",
            "          23       0.00      0.00      0.00         4\n",
            "\n",
            "    accuracy                           0.23       836\n",
            "   macro avg       0.16      0.12      0.11       836\n",
            "weighted avg       0.23      0.23      0.21       836\n",
            "\n"
          ],
          "name": "stdout"
        },
        {
          "output_type": "stream",
          "text": [
            "/usr/local/lib/python3.6/dist-packages/sklearn/metrics/classification.py:1437: UndefinedMetricWarning: Precision and F-score are ill-defined and being set to 0.0 in labels with no predicted samples.\n",
            "  'precision', 'predicted', average, warn_for)\n",
            "/usr/local/lib/python3.6/dist-packages/sklearn/metrics/classification.py:1439: UndefinedMetricWarning: Recall and F-score are ill-defined and being set to 0.0 in labels with no true samples.\n",
            "  'recall', 'true', average, warn_for)\n"
          ],
          "name": "stderr"
        },
        {
          "output_type": "execute_result",
          "data": {
            "text/plain": [
              "'f1-score: (2xprecision x recall)/precision + recall'"
            ]
          },
          "metadata": {
            "tags": []
          },
          "execution_count": 16
        }
      ]
    },
    {
      "cell_type": "code",
      "metadata": {
        "id": "uG90aUFvm6i2",
        "colab": {
          "base_uri": "https://localhost:8080/",
          "height": 816
        },
        "outputId": "33a02a5a-905a-443e-b018-c960f2534ce4"
      },
      "source": [
        "from sklearn.metrics import confusion_matrix\n",
        "#cara baca : row/label kiri itu actual, colom/label atas itu prediction\n",
        "confusion_matrix(y_true, y_pred)"
      ],
      "execution_count": null,
      "outputs": [
        {
          "output_type": "execute_result",
          "data": {
            "text/plain": [
              "array([[ 0,  0,  0,  0,  0,  0,  0,  0,  0,  0,  0,  0,  0,  0,  0,  0,\n",
              "         0,  0,  0,  0,  0,  0],\n",
              "       [ 2,  0,  1,  0,  0,  0,  0,  0,  0,  0,  0,  0,  0,  0,  0,  0,\n",
              "         0,  0,  0,  0,  0,  0],\n",
              "       [ 1,  4,  4,  3,  0,  1,  0,  0,  0,  0,  0,  0,  0,  0,  0,  0,\n",
              "         0,  0,  0,  0,  0,  0],\n",
              "       [ 0,  2, 14,  7,  4,  4,  1,  0,  0,  0,  0,  0,  0,  0,  0,  0,\n",
              "         0,  0,  0,  0,  0,  0],\n",
              "       [ 0,  0,  2, 12, 17, 12,  4,  1,  0,  0,  0,  0,  0,  0,  0,  0,\n",
              "         0,  0,  0,  0,  0,  0],\n",
              "       [ 0,  0,  2,  7, 20, 21, 22,  7,  3,  2,  0,  0,  0,  0,  0,  0,\n",
              "         0,  0,  0,  0,  0,  0],\n",
              "       [ 0,  0,  1,  2,  7, 20, 38, 22,  5,  3,  1,  0,  0,  0,  0,  0,\n",
              "         0,  0,  0,  0,  0,  0],\n",
              "       [ 0,  0,  0,  1,  5, 10, 36, 54, 24,  8,  4,  0,  0,  0,  0,  0,\n",
              "         0,  0,  0,  0,  0,  0],\n",
              "       [ 0,  0,  0,  0,  1, 10, 37, 30, 26, 19,  6,  7,  1,  0,  1,  0,\n",
              "         1,  0,  0,  0,  0,  0],\n",
              "       [ 0,  0,  0,  0,  1,  4, 16, 34, 14, 18,  1,  5,  0,  0,  0,  0,\n",
              "         0,  0,  0,  0,  0,  0],\n",
              "       [ 0,  0,  0,  0,  1,  2,  9, 12,  9, 12,  2,  3,  0,  0,  1,  0,\n",
              "         0,  0,  0,  0,  0,  0],\n",
              "       [ 0,  0,  0,  0,  3,  2,  1,  6, 10,  6,  1,  2,  0,  0,  0,  0,\n",
              "         0,  0,  0,  0,  0,  0],\n",
              "       [ 0,  0,  0,  0,  0,  0,  3,  5,  9,  2,  1,  3,  2,  0,  0,  1,\n",
              "         0,  0,  0,  0,  0,  0],\n",
              "       [ 0,  0,  0,  0,  0,  1,  1,  5,  3,  1,  3,  5,  1,  1,  0,  0,\n",
              "         0,  0,  0,  0,  0,  0],\n",
              "       [ 0,  0,  0,  0,  0,  0,  0,  1,  3,  2,  2,  2,  1,  0,  1,  1,\n",
              "         0,  0,  0,  0,  0,  0],\n",
              "       [ 0,  0,  0,  0,  0,  0,  0,  3,  1,  3,  1,  0,  0,  0,  0,  0,\n",
              "         0,  0,  0,  0,  0,  0],\n",
              "       [ 0,  0,  0,  0,  0,  0,  0,  1,  5,  1,  3,  0,  1,  0,  0,  0,\n",
              "         0,  0,  1,  0,  0,  0],\n",
              "       [ 0,  0,  0,  0,  0,  0,  0,  1,  2,  1,  0,  1,  2,  0,  0,  0,\n",
              "         0,  0,  0,  0,  0,  0],\n",
              "       [ 0,  0,  0,  0,  0,  0,  0,  0,  1,  2,  1,  0,  0,  0,  0,  0,\n",
              "         0,  0,  0,  0,  0,  0],\n",
              "       [ 0,  0,  0,  0,  0,  0,  0,  0,  0,  1,  0,  1,  1,  0,  0,  0,\n",
              "         0,  0,  0,  0,  0,  0],\n",
              "       [ 0,  0,  0,  0,  0,  0,  0,  0,  0,  0,  1,  1,  1,  0,  0,  0,\n",
              "         0,  0,  0,  0,  0,  0],\n",
              "       [ 0,  0,  0,  0,  0,  0,  0,  2,  0,  1,  0,  0,  0,  0,  1,  0,\n",
              "         0,  0,  0,  0,  0,  0]])"
            ]
          },
          "metadata": {
            "tags": []
          },
          "execution_count": 17
        }
      ]
    },
    {
      "cell_type": "code",
      "metadata": {
        "id": "d_O5yUpOm6i6",
        "colab": {
          "base_uri": "https://localhost:8080/",
          "height": 35
        },
        "outputId": "442ee37d-eebe-4c9a-ab19-44c2fcb309b1"
      },
      "source": [
        "knn7 = neighbors.KNeighborsClassifier(n_neighbors = 7) # menentukan nilai K\n",
        "knn_model_1_k7 = knn7.fit(X_train, y_train)\n",
        "knn_result_1_k7 = knn_model_1_k7.score(X_test, y_test)\n",
        "print('K-NN accuracy for test set : %f' % knn_result_1_k7)"
      ],
      "execution_count": null,
      "outputs": [
        {
          "output_type": "stream",
          "text": [
            "K-NN accuracy for test set : 0.234450\n"
          ],
          "name": "stdout"
        }
      ]
    },
    {
      "cell_type": "code",
      "metadata": {
        "id": "1u1tPfbAm6i9",
        "colab": {
          "base_uri": "https://localhost:8080/",
          "height": 35
        },
        "outputId": "b3f8d538-7efc-4c83-eb7b-a3ee8e8cf462"
      },
      "source": [
        "knn11 = neighbors.KNeighborsClassifier(n_neighbors = 11) # menentukan nilai K\n",
        "knn_model_1_k11 = knn11.fit(X_train, y_train)\n",
        "knn_result_1_k11 = knn_model_1_k11.score(X_test, y_test)\n",
        "print('K-NN accuracy for test set : %f' % knn_result_1_k11)"
      ],
      "execution_count": null,
      "outputs": [
        {
          "output_type": "stream",
          "text": [
            "K-NN accuracy for test set : 0.257177\n"
          ],
          "name": "stdout"
        }
      ]
    },
    {
      "cell_type": "code",
      "metadata": {
        "id": "uA_DU89om6jB",
        "colab": {
          "base_uri": "https://localhost:8080/",
          "height": 35
        },
        "outputId": "0620781b-35f8-41c2-8e3b-22de11b3a1ab"
      },
      "source": [
        "knn15 = neighbors.KNeighborsClassifier(n_neighbors = 15) # menentukan nilai K\n",
        "knn_model_1_k15 = knn15.fit(X_train, y_train)\n",
        "knn_result_1_k15 = knn_model_1_k15.score(X_test, y_test)\n",
        "print('K-NN accuracy for test set : %f' % knn_result_1_k15)"
      ],
      "execution_count": null,
      "outputs": [
        {
          "output_type": "stream",
          "text": [
            "K-NN accuracy for test set : 0.257177\n"
          ],
          "name": "stdout"
        }
      ]
    },
    {
      "cell_type": "code",
      "metadata": {
        "id": "mw2Li_99MReH",
        "colab": {
          "base_uri": "https://localhost:8080/",
          "height": 35
        },
        "outputId": "9515b916-79ae-4a32-b902-bf8776fe854e"
      },
      "source": [
        "knn47 = neighbors.KNeighborsClassifier(n_neighbors = 47) # menentukan nilai K\n",
        "knn_model_1_k47 = knn47.fit(X_train, y_train)\n",
        "knn_result_1_k47 = knn_model_1_k47.score(X_test, y_test)\n",
        "print('K-NN accuracy for test set : %f' % knn_result_1_k47)"
      ],
      "execution_count": null,
      "outputs": [
        {
          "output_type": "stream",
          "text": [
            "K-NN accuracy for test set : 0.283493\n"
          ],
          "name": "stdout"
        }
      ]
    },
    {
      "cell_type": "code",
      "metadata": {
        "id": "SNM3Rwk4ZcUe",
        "colab": {
          "base_uri": "https://localhost:8080/",
          "height": 35
        },
        "outputId": "19bb5f4d-61b9-4a90-8714-d39a81386c76"
      },
      "source": [
        "knn500 = neighbors.KNeighborsClassifier(n_neighbors = 500) # menentukan nilai K\n",
        "knn_model_1_k500 = knn500.fit(X_train, y_train)\n",
        "knn_result_1_k500 = knn_model_1_k500.score(X_test, y_test)\n",
        "print('K-NN accuracy for test set : %f' % knn_result_1_k500)"
      ],
      "execution_count": null,
      "outputs": [
        {
          "output_type": "stream",
          "text": [
            "K-NN accuracy for test set : 0.261962\n"
          ],
          "name": "stdout"
        }
      ]
    },
    {
      "cell_type": "code",
      "metadata": {
        "id": "D3aZ3hqnm6jD",
        "colab": {
          "base_uri": "https://localhost:8080/",
          "height": 283
        },
        "outputId": "392af343-d6cf-4289-c6f9-0e1746775785"
      },
      "source": [
        "plt.plot([3,7,11,15,47,500,],[knn_result_1, knn_result_1_k7, knn_result_1_k11, knn_result_1_k15, knn_result_1_k47, knn_result_1_k500])"
      ],
      "execution_count": null,
      "outputs": [
        {
          "output_type": "execute_result",
          "data": {
            "text/plain": [
              "[<matplotlib.lines.Line2D at 0x7f3efb90df28>]"
            ]
          },
          "metadata": {
            "tags": []
          },
          "execution_count": 26
        },
        {
          "output_type": "display_data",
          "data": {
            "image/png": "[encoded data removed]",
            "text/plain": [
              "<Figure size 432x288 with 1 Axes>"
            ]
          },
          "metadata": {
            "tags": []
          }
        }
      ]
    },
    {
      "cell_type": "code",
      "metadata": {
        "id": "GxtHfBV-m6jG"
      },
      "source": [
        ""
      ],
      "execution_count": null,
      "outputs": []
    }
  ]
}