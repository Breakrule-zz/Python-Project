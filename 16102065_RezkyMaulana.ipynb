{
  "nbformat": 4,
  "nbformat_minor": 0,
  "metadata": {
    "orig_nbformat": 2,
    "file_extension": ".py",
    "mimetype": "text/x-python",
    "name": "python",
    "npconvert_exporter": "python",
    "pygments_lexer": "ipython3",
    "version": 3,
    "colab": {
      "name": "16102065_RezkyMaulana.ipynb",
      "provenance": [],
      "collapsed_sections": [],
      "include_colab_link": true
    },
    "kernelspec": {
      "name": "python3",
      "display_name": "Python 3"
    }
  },
  "cells": [
    {
      "cell_type": "markdown",
      "metadata": {
        "id": "view-in-github",
        "colab_type": "text"
      },
      "source": [
        "<a href=\"https://colab.research.google.com/github/Breakrule/Python-Project/blob/main/16102065_RezkyMaulana.ipynb\" target=\"_parent\"><img src=\"https://colab.research.google.com/assets/colab-badge.svg\" alt=\"Open In Colab\"/></a>"
      ]
    },
    {
      "cell_type": "code",
      "metadata": {
        "trusted": false,
        "id": "eJybu6GUmKPr"
      },
      "source": [
        "# Latihan string\n",
        "\n",
        "print(\"Hello Institute Teknologi telkom Purwokerto\")\n",
        "print(\"Ya... aku padamu\")\n",
        "print(\"Saya sedang belajar Python.\")\n",
        "print(\"semangaaaat.\")\n",
        "print('Hore... Nongol.')\n",
        "print(\"Bagaikan Pepatah 'Seperti air didaun keladu'.\")\n",
        "print('Kata terindah \"Ketika Kutatap matamu, kutemukan kesejukan disana,\" Gombaaal....')"
      ],
      "execution_count": null,
      "outputs": []
    },
    {
      "cell_type": "code",
      "metadata": {
        "trusted": false,
        "id": "NXhZed8FmKQN"
      },
      "source": [
        "#Komentar\n",
        "\n",
        "# ini adalah sebuah komentar\n",
        "print (\"Seharusnya kamu tau, ketika aku berkomentar disini, tapi sayang ngga keliatan :(\") # ini komentarnya\n",
        "\n",
        "print (\"ini tanpa komentar\")"
      ],
      "execution_count": null,
      "outputs": []
    },
    {
      "cell_type": "code",
      "metadata": {
        "trusted": false,
        "id": "YdWQPL-omKQg"
      },
      "source": [
        "#Angka dan matematika\n",
        "#\n",
        "# +: plus\n",
        "# -: minus\n",
        "# /: slash\n",
        "#: asterisk\n",
        "# %: percent\n",
        "# <: less-than\n",
        "# >: greater-than\n",
        "# <=: less-than-equal\n",
        "# >=: greater-than-equal\n",
        "\n",
        "print(\"Saya akan menhitung jumlah ayam:\")\n",
        "print(\"Betina\", 25 + 30 / 6)\n",
        "print(\"Jantan\", 100 - 25 * 3 % 4)\n",
        "print(\"Lalu Menghitung Jumlah Telurnya:\")\n",
        "print(3 + 2 + 1 - 5 + 4 % 2 - 1 / 4 + 6)\n",
        "print(\"Apakah benar bahwa 3 + 2 < 5 - 7?\")\n",
        "print(3 + 2 < 5 - 7)\n",
        "print(\"Berapa  3 + 2?\", 3 + 2)\n",
        "print(\"Berapa  5 - 7?\", 5 - 7)\n",
        "\n",
        "print(\"Besar dari \", 5 > -2)\n",
        "print(\"Apakah besar dari atau sama dengan? \", 5 >= -2)\n",
        "print(\"apakah kecil dari atau sama dengan?\", 5 <= -2)\n"
      ],
      "execution_count": null,
      "outputs": []
    },
    {
      "cell_type": "code",
      "metadata": {
        "trusted": false,
        "id": "dY1lRzOemKQw"
      },
      "source": [
        "#Variabel dan Names\n",
        "panjang = 100\n",
        "lebar = 80\n",
        "luas = panjang * lebar\n",
        "\n",
        "print (\"Ukuran panjang\", panjang)\n",
        "print (\"Ukuran Lebar\", lebar)\n",
        "print (\"Ukuran Luas\", luas )"
      ],
      "execution_count": null,
      "outputs": []
    },
    {
      "cell_type": "code",
      "metadata": {
        "trusted": false,
        "id": "--isuVhQmKQ_"
      },
      "source": [
        "#Printing\n",
        "\n",
        "print(\"Saya lagi belajar printing.\")\n",
        "\n",
        "print(\".\" * 13) # coba tebak ini ngapain ?\n",
        "end1 = \"a\"\n",
        "end2 = \"p\"\n",
        "end3 = \"r\"\n",
        "end4 = \"i\"\n",
        "end5 = \"j\"\n",
        "end6 = \"u\"\n",
        "end7 = \"n\"\n",
        "end8 = \"a\"\n",
        "end9 = \"i\"\n",
        "end10 = \"d\"\n",
        "end11 = \"i\"\n",
        "# watch end = ' ' at the end. try removing it to see what happens\n",
        "print(end1 + end2 + end3 + end4, end=' ')\n",
        "print(end5 + end6 + end7 + end8 + end9 + end10 + end11)"
      ],
      "execution_count": null,
      "outputs": []
    },
    {
      "cell_type": "code",
      "metadata": {
        "trusted": false,
        "id": "vQPFwNMemKRN"
      },
      "source": [
        "#input\n",
        "\n",
        "umur = input(\"Berapa umurmu? \")\n",
        "tinggi = input(\"Tingginya berapa ? \")\n",
        "berat = input(\"beratnya berapa ? \")\n",
        "mantan = input (\"Nama Mantan \")\n",
        "print(f\"Kamu berumur {umur} tahun, tinggimu {tinggi} dan beratmu  {berat}.\")\n",
        "\n",
        "print (\"Mantan \", mantan)"
      ],
      "execution_count": null,
      "outputs": []
    },
    {
      "cell_type": "code",
      "metadata": {
        "trusted": false,
        "id": "QxdD8CgKmKRZ"
      },
      "source": [
        "#IF\n",
        "\n",
        "#if (kondisi):\n",
        "#    aksi\n",
        "\n",
        "x = 1\n",
        "if x > 0:\n",
        "    print(\"Nilai %x adalah besar dari 0\" % x )\n",
        " \n"
      ],
      "execution_count": null,
      "outputs": []
    },
    {
      "cell_type": "code",
      "metadata": {
        "trusted": false,
        "id": "t2BW_CjgmKRj"
      },
      "source": [
        "x = 1\n",
        "if x > 2:\n",
        "    print(\"Nilai %x adalah besar dari 0\" % x )\n",
        "    \n",
        "#Jika kita jalankan kode diatas maka python tidak akan menampilkan output apapun, karena sudah jelas bahwa kondisi diatas adalah bernilai false / salah."
      ],
      "execution_count": null,
      "outputs": []
    },
    {
      "cell_type": "code",
      "metadata": {
        "trusted": false,
        "id": "xOFH9gUbmKRx"
      },
      "source": [
        "#if else\n",
        "x = 1\n",
        "if x > 5:\n",
        "    print(\"Nilai %d adalah besar dari 5\" % x )\n",
        "else :\n",
        "    print(\"Nilai %d adalah kecil dari 5\" % x)\n",
        " \n",
        "# Nilai 1 adalah kecil dari 5"
      ],
      "execution_count": null,
      "outputs": []
    },
    {
      "cell_type": "code",
      "metadata": {
        "trusted": false,
        "id": "yBwhRFb6mKR9"
      },
      "source": [
        "x = 10\n",
        "if x > 5:\n",
        "\tprint(\"Nilai %d adalah besar dari 5\" % x )\n",
        "else :\n",
        "\tprint(\"Nilai %d adalah kecil dari 5\" % x)"
      ],
      "execution_count": null,
      "outputs": []
    },
    {
      "cell_type": "code",
      "metadata": {
        "trusted": false,
        "id": "g-mwlLjEmKSJ"
      },
      "source": [
        "#Chained Conditionals\n",
        "\n",
        "x = 5\n",
        "if x < 5:\n",
        "\tprint(\"Nilai %d adalah kecil dari 5\" % x )\n",
        "elif x == 5 :\n",
        "\tprint(\"Nilai %d adalah sama dengan 5\" % x)\n",
        "else :\n",
        "\tprint(\"Nilai %d adalah besar dari 5\" % x)\n"
      ],
      "execution_count": null,
      "outputs": []
    },
    {
      "cell_type": "code",
      "metadata": {
        "trusted": false,
        "id": "qGR-4ObKmKSW"
      },
      "source": [
        "umur = 37\n",
        "if umur > 18 and umur < 30:\n",
        "    print (\"Sudah beranjak dewasa\")\n",
        "elif umur > 30 and umur < 45:\n",
        "    print (\"Masa - masa emas\")\n",
        "elif umur > 45 and umur < 55:\n",
        "    print (\"Memasuki masa paruh baya\")\n",
        "elif umur > 55:\n",
        "    print (\"Masa - masa manula\")\n",
        "else:\n",
        "    print (\"Masih dibawah umur\")"
      ],
      "execution_count": null,
      "outputs": []
    },
    {
      "cell_type": "code",
      "metadata": {
        "trusted": true,
        "id": "I6InZeHgmKSf",
        "colab": {
          "base_uri": "https://localhost:8080/",
          "height": 181
        },
        "outputId": "7f5b0c15-fb49-4e2b-a615-c130515db101"
      },
      "source": [
        "#tugas : masing masing mahasiswa membuat contoh program looping, tambahkan cel dibawah ini:\n",
        "#Nama : Rezky Maulana\n",
        "#Nim : 16102065\n",
        "\n",
        "c1 = [\"rez\", \"ky\", \"mau\"]\n",
        "c2 = [\"lal\", \"na\", \"ta\"]\n",
        "\n",
        "for x in c1:\n",
        "  for y in c2:\n",
        "    print(x, y) \n"
      ],
      "execution_count": null,
      "outputs": [
        {
          "output_type": "stream",
          "text": [
            "rez lal\n",
            "rez na\n",
            "rez ta\n",
            "ky lal\n",
            "ky na\n",
            "ky ta\n",
            "mau lal\n",
            "mau na\n",
            "mau ta\n"
          ],
          "name": "stdout"
        }
      ]
    },
    {
      "cell_type": "code",
      "metadata": {
        "id": "cGdniLPYmKSn"
      },
      "source": [
        "import pandas as pd\n",
        "\n",
        "dataset = pd.read.csv{'tali2017.csv'}\n",
        "\n",
        "dataset.head()"
      ],
      "execution_count": null,
      "outputs": []
    }
  ]
}